{
 "cells": [
  {
   "cell_type": "code",
   "execution_count": 21,
   "id": "9bdc4585-a118-4c8f-a7d8-0c58cfd57e3d",
   "metadata": {
    "tags": []
   },
   "outputs": [
    {
     "name": "stdout",
     "output_type": "stream",
     "text": [
      "Customer One Items:\n",
      "Lovely Loveseat. Tufted polyester blend on wood. 32 inches high x 40 inches wide x 30 inches deep. Red or white.Luxurious Lamp. Glass and iron. 36 inches tall. Brown with cream shade.\n",
      "Customer One Total:\n",
      "333.09119999999996\n"
     ]
    }
   ],
   "source": [
    "lovely_loveseat_description='Lovely Loveseat. Tufted polyester blend on wood. 32 inches high x 40 inches wide x 30 inches deep. Red or white.'\n",
    "stylish_settee_description='Stylish Settee. Faux leather on birch. 29.50 inches high x 54.75 inches wide x 28 inches deep. Black.'\n",
    "luxurious_lamp_description='Luxurious Lamp. Glass and iron. 36 inches tall. Brown with cream shade.'\n",
    "Lovely_Loveseat_price=254.00\n",
    "Stylish_Settee_price=180.50\n",
    "Luxurious_Lamp_price=52.15\n",
    "customer_one_tota =0\n",
    "customer_one_itemization=\"\"\n",
    "customer_one_tota=customer_one_tota+Lovely_Loveseat_price\n",
    "customer_one_itemization=customer_one_itemization+lovely_loveseat_description\n",
    "customer_one_tota=customer_one_tota+Luxurious_Lamp_price\n",
    "customer_one_itemization=customer_one_itemization+luxurious_lamp_description\n",
    "sales_tax=0.088\n",
    "customer_one_tax=customer_one_tota*sales_tax\n",
    "customer_one_total=customer_one_tax+customer_one_tota\n",
    "print(\"Customer One Items:\")\n",
    "print(customer_one_itemization)\n",
    "print(\"Customer One Total:\")\n",
    "print(customer_one_total)"
   ]
  }
 ],
 "metadata": {
  "kernelspec": {
   "display_name": "Python 3 (ipykernel)",
   "language": "python",
   "name": "python3"
  },
  "language_info": {
   "codemirror_mode": {
    "name": "ipython",
    "version": 3
   },
   "file_extension": ".py",
   "mimetype": "text/x-python",
   "name": "python",
   "nbconvert_exporter": "python",
   "pygments_lexer": "ipython3",
   "version": "3.11.4"
  }
 },
 "nbformat": 4,
 "nbformat_minor": 5
}
