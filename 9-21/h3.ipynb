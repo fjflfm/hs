{
 "cells": [
  {
   "cell_type": "code",
   "execution_count": 83,
   "id": "b4b42a98-72b8-4fac-b558-dc6d71048de8",
   "metadata": {
    "tags": []
   },
   "outputs": [],
   "source": [
    "import numpy as np\n",
    "import sys"
   ]
  },
  {
   "cell_type": "code",
   "execution_count": 147,
   "id": "ef1efa11-ba04-4651-86db-947e15fba0d0",
   "metadata": {
    "tags": []
   },
   "outputs": [],
   "source": [
    "hairstyles = [\"bouffant\", \"pixie\", \"dreadlocks\", \"crew\", \"bowl\", \"bob\", \"mohawk\", \"flattop\"]"
   ]
  },
  {
   "cell_type": "code",
   "execution_count": 84,
   "id": "24aab2f1-5ac2-45a4-a2b2-aacbce3a9aa5",
   "metadata": {
    "tags": []
   },
   "outputs": [],
   "source": [
    "prices = [30, 25, 40, 20, 20, 35, 50, 35]"
   ]
  },
  {
   "cell_type": "code",
   "execution_count": 85,
   "id": "0d7c88bb-8316-47c1-a750-cc565eb2d066",
   "metadata": {
    "tags": []
   },
   "outputs": [],
   "source": [
    "last_week = [2, 3, 5, 8, 4, 4, 6, 2]"
   ]
  },
  {
   "cell_type": "code",
   "execution_count": 86,
   "id": "c5467cc2-3aa6-4208-830d-d69b5c03f0c3",
   "metadata": {
    "tags": []
   },
   "outputs": [],
   "source": [
    "total_price=0"
   ]
  },
  {
   "cell_type": "code",
   "execution_count": 87,
   "id": "60b91fe7-df83-4fa2-bdac-66d9be06f744",
   "metadata": {
    "tags": []
   },
   "outputs": [
    {
     "name": "stdout",
     "output_type": "stream",
     "text": [
      "255\n"
     ]
    }
   ],
   "source": [
    "for i in range(len(prices)):\n",
    "    total_price=total_price+prices[i]\n",
    "print(total_price)"
   ]
  },
  {
   "cell_type": "code",
   "execution_count": 88,
   "id": "56628414-6b8c-4dc9-8ada-024b6d25d605",
   "metadata": {
    "tags": []
   },
   "outputs": [],
   "source": [
    "average_price=total_price/len(prices)"
   ]
  },
  {
   "cell_type": "code",
   "execution_count": 89,
   "id": "5b94d84d-6f93-400a-99c7-532cf7c3565d",
   "metadata": {
    "tags": []
   },
   "outputs": [
    {
     "name": "stdout",
     "output_type": "stream",
     "text": [
      "31.875\n"
     ]
    }
   ],
   "source": [
    "print(average_price)"
   ]
  },
  {
   "cell_type": "code",
   "execution_count": 90,
   "id": "8f9cf12d-b7e9-44af-b99c-60b67fc5f975",
   "metadata": {
    "tags": []
   },
   "outputs": [
    {
     "name": "stdout",
     "output_type": "stream",
     "text": [
      "[25 20 35 15 15 30 45 30]\n"
     ]
    }
   ],
   "source": [
    "new_prices=np.array(prices)\n",
    "new_prices -= 5\n",
    "print(new_prices)"
   ]
  },
  {
   "cell_type": "code",
   "execution_count": 91,
   "id": "c6b2d555-1754-44c8-96fc-1523fdb7e8a4",
   "metadata": {
    "tags": []
   },
   "outputs": [
    {
     "name": "stdout",
     "output_type": "stream",
     "text": [
      "1085\n",
      "155.0\n"
     ]
    }
   ],
   "source": [
    "total_revenue=0\n",
    "for i in range(len(hairstyles)):\n",
    "    total_revenue=total_revenue+prices[i]*last_week[i]\n",
    "print(total_revenue)\n",
    "average_daily_revenue=total_revenue/7\n",
    "print(average_daily_revenue)\n"
   ]
  },
  {
   "cell_type": "code",
   "execution_count": 78,
   "id": "6d03d299-cea9-4449-9aaa-8bba7b710f06",
   "metadata": {
    "tags": []
   },
   "outputs": [
    {
     "name": "stdout",
     "output_type": "stream",
     "text": [
      "1\n",
      "[]\n"
     ]
    }
   ],
   "source": [
    "ex_list = [x for x in hairstyles if x != 3]"
   ]
  },
  {
   "cell_type": "code",
   "execution_count": 156,
   "id": "c0397df1-eee1-4dce-9bb2-754bbe69f9d5",
   "metadata": {
    "tags": []
   },
   "outputs": [
    {
     "name": "stdout",
     "output_type": "stream",
     "text": [
      "['bouffant', 'pixie', 'crew', 'bowl']\n"
     ]
    }
   ],
   "source": [
    "cuts_under_30=list()\n",
    "for i in range(len(hairstyles)):\n",
    "    if new_prices[i-1]<30:\n",
    "        cuts_under_30.append(hairstyles[i-1])\n",
    "print(cuts_under_30)"
   ]
  }
 ],
 "metadata": {
  "kernelspec": {
   "display_name": "Python 3 (ipykernel)",
   "language": "python",
   "name": "python3"
  },
  "language_info": {
   "codemirror_mode": {
    "name": "ipython",
    "version": 3
   },
   "file_extension": ".py",
   "mimetype": "text/x-python",
   "name": "python",
   "nbconvert_exporter": "python",
   "pygments_lexer": "ipython3",
   "version": "3.11.4"
  }
 },
 "nbformat": 4,
 "nbformat_minor": 5
}
