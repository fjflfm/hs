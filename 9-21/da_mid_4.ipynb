{
 "cells": [
  {
   "cell_type": "code",
   "execution_count": 57,
   "id": "dd094edd",
   "metadata": {},
   "outputs": [],
   "source": [
    "import pandas as pd\n",
    "import numpy as np"
   ]
  },
  {
   "cell_type": "code",
   "execution_count": 58,
   "id": "155733ea",
   "metadata": {},
   "outputs": [],
   "source": [
    "def get_my_chosun_name(family_name,month, day):\n",
    "    print('당신의 조선시대 이름은', family_name+month_list[month]+day_list[day],'입니다')"
   ]
  },
  {
   "cell_type": "code",
   "execution_count": 59,
   "id": "6f8f4fa3",
   "metadata": {},
   "outputs": [],
   "source": [
    "month_list = pd.Series(['쌍', '쇠', '복', '돌', '팽', '육', '쌍', '개', '칠', '갑', '삼', '방'],index=[1,2,3,4,5,6,7,8,9,10,11,12])\n",
    "day_list=pd.Series(['봉', '구', '욕', '포', '똥', '삼', '식', '석', '놈', '님', '년', '돌', '단', '득', '방', '질', '장', '걸', '래', '룡', '동', '순', '자', '박', '창', '언', '것', '포', '만', '단', '국'],index=[1,2,3,4,5,6,7,8,9,10,11,12,13,14,15,16,17,18,19,20,21,22,23,24,25,26,27,28,29,30,31])"
   ]
  },
  {
   "cell_type": "code",
   "execution_count": 60,
   "id": "02e40ee6",
   "metadata": {},
   "outputs": [
    {
     "name": "stdout",
     "output_type": "stream",
     "text": [
      "당신의 조선시대 이름은 안칠걸 입니다\n"
     ]
    }
   ],
   "source": [
    "get_my_chosun_name('안',9,18)"
   ]
  }
 ],
 "metadata": {
  "kernelspec": {
   "display_name": "Python 3 (ipykernel)",
   "language": "python",
   "name": "python3"
  },
  "language_info": {
   "codemirror_mode": {
    "name": "ipython",
    "version": 3
   },
   "file_extension": ".py",
   "mimetype": "text/x-python",
   "name": "python",
   "nbconvert_exporter": "python",
   "pygments_lexer": "ipython3",
   "version": "3.11.4"
  }
 },
 "nbformat": 4,
 "nbformat_minor": 5
}
